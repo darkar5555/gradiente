{
 "cells": [
  {
   "cell_type": "code",
   "execution_count": 5,
   "metadata": {},
   "outputs": [
    {
     "name": "stdout",
     "output_type": "stream",
     "text": [
      "gradiente descendiente\n",
      "vector theta\n",
      "[-0.03549815 -0.29331196 -0.38205392 -0.1057975   0.5767906 ]\n",
      "costo error\n",
      "0.36492885939144987\n"
     ]
    },
    {
     "data": {
      "image/png": "[encoded data removed]",
      "text/plain": [
       "<Figure size 576x576 with 1 Axes>"
      ]
     },
     "metadata": {
      "needs_background": "light"
     },
     "output_type": "display_data"
    }
   ],
   "source": [
    "import pandas as pd\n",
    "import numpy as np\n",
    "import matplotlib.pyplot as plt\n",
    "\n",
    "# 1er tarea \n",
    "# X_train = pd.read_csv('train_ex1data1.csv')\n",
    "# y_train = pd.read_csv('y_train_ex1data1.csv')\n",
    "# X_test  = pd.read_csv('test_ex1data1.csv')\n",
    "# y_test  = pd.read_csv('y_test_ex1data1.csv')\n",
    "\n",
    "\n",
    "# X_train = X_train.iloc[:,:]\n",
    "# y_train = y_train.iloc[:,0]\n",
    "# X_test  = X_test.iloc[:,:]\n",
    "# y_test  = y_test.iloc[:,0]\n",
    "\n",
    "#2da tarea\n",
    "X_train = pd.read_csv('file_train_petrol.csv')\n",
    "y_train = pd.read_csv('file_train_petrol.csv')\n",
    "X_test  = pd.read_csv('file_test_petrol.csv')\n",
    "y_test  = pd.read_csv('file_test_petrol.csv')\n",
    "\n",
    "\n",
    "X_train = X_train.iloc[:,1:5]\n",
    "y_train = y_train.iloc[:,-1]\n",
    "X_test = X_test.iloc[:,1:5]\n",
    "y_test = y_test.iloc[:,-1]\n",
    "\n",
    "#data = pd.read_csv('petrol_consumption.csv')\n",
    "#msk = np.random.rand(len(data)) < 0.8\n",
    "#train = data[msk]\n",
    "#test = data[~msk]\n",
    "\n",
    "#X_train = train.iloc[:, train.columns != 'Petrol_Consumption']\n",
    "#y_train = train.iloc[:,-1]\n",
    "\n",
    "#X_test = test.iloc[:, test.columns != 'Petrol_Consumption']\n",
    "#y_test = test.iloc[:,-1]\n",
    "\n",
    "n_exa_train =len(y_train)\n",
    "n_exa_test =len(y_test)\n",
    "\n",
    "\n",
    "X_media=np.concatenate((X_train,X_test),axis=0).mean(axis=0)\n",
    "X_std=np.concatenate((X_train,X_test),axis=0).std(axis=0)\n",
    "y_media=np.concatenate((y_train,y_test),axis=0).mean()\n",
    "y_std=np.concatenate((y_train,y_test),axis=0).std()\n",
    "\n",
    "X_train = (X_train - X_media)/X_std\n",
    "y_train = (y_train - y_media)/y_std\n",
    "X_test = (X_test - X_media)/X_std\n",
    "y_test = (y_test - y_media)/y_std\n",
    "\n",
    "X_train  = np.concatenate((np.ones([n_exa_train,1]),X_train ), axis=1)\n",
    "X_test = np.concatenate((np.ones([n_exa_test,1]),X_test ), axis=1)\n",
    "n_features = X_train.shape[1]\n",
    "\n",
    "\n",
    "def predict(theta, data):\n",
    "    return np.dot(data, theta)\n",
    "\n",
    "alpha = 0.01\n",
    "iters = 1500\n",
    "theta = np.zeros([X_train.shape[1],])\n",
    "#\n",
    "# print(X_train)\n",
    "# print(np.dot(X_train, np.zeros([2, 1])))\n",
    "\n",
    "#print(Y_train.shape[0])\n",
    "def cal_cost(theta, X, y):\n",
    "    y_pred_test = predict(theta, X)\n",
    "    to_sum = (y_pred_test - y) ** 2\n",
    "    return np.sum(to_sum) / (X.shape[0])\n",
    "\n",
    "\n",
    "def gradient_descent(X,y,theta):\n",
    "    cost_history = np.zeros(iters)\n",
    "    for it in range(iters):\n",
    "        H_theta = predict(theta, X)\n",
    "        theta = theta -(1/H_theta.shape[0])*alpha*( X.T.dot((H_theta - y)))\n",
    "        cost_history[it]  = cal_cost(theta,X,y)\n",
    "\n",
    "    return theta, cost_history\n",
    "\n",
    "\n",
    "theta, cost_history = gradient_descent(X_train, y_train, theta)\n",
    "cost = cal_cost(theta,X_test, y_test)\n",
    "\n",
    "def plot():\n",
    "    fig, ax = plt.subplots(figsize=(8, 8))\n",
    "    ax.set_ylabel('J(Theta)')\n",
    "    ax.set_xlabel('Iterations')\n",
    "    _ = ax.plot(range(iters), cost_history, 'r.')\n",
    "    plt.show()\n",
    "\n",
    "print(\"gradiente descendiente\")\n",
    "print(\"vector theta\")\n",
    "print(theta)\n",
    "print(\"costo error\")\n",
    "print(cost)\n",
    "plot()\n",
    "# inicializar con un vector de ceros.\n",
    "\n",
    "    #theta = np.dot(np.dot(np.linalg.inv()))\n",
    "#quad_error = ()\n",
    "if n_features==2: # este ploteo solo funciona cuando el conjunto de datos tiene dos características\n",
    "    plt.subplot(2,1,2)\n",
    "    plt.scatter(X_train[:,1], y_train, s=10) # esto solo está ploteando los datos del conjunto de entremaniento. \n",
    "                                             # es solo para saber si la línea encontrada se ajusta a la distribución de \n",
    "                                             # los datos de entrenamiento\n",
    "    linea = np.arange(np.min(X_train[:,1]-1), np.max(X_train[:,1]+1))\n",
    "    linea = np.column_stack((np.ones(linea.shape[0]),linea))\n",
    "    plt.plot(linea[:,1], predict(theta,linea), c=\"green\")\n",
    "    plt.xlabel('X_1')\n",
    "    plt.ylabel('y')\n",
    "    cadena =\"Recta: y = X_1 * \" + str(round(theta[1],2)) + \" +  \" + str(round(theta[0],2))\n",
    "    plt.text(0.5, 0.5, cadena, horizontalalignment='left', verticalalignment='center',)\n",
    "\n",
    "plt.show()"
   ]
  },
  {
   "cell_type": "code",
   "execution_count": null,
   "metadata": {},
   "outputs": [],
   "source": []
  },
  {
   "cell_type": "code",
   "execution_count": null,
   "metadata": {},
   "outputs": [],
   "source": []
  },
  {
   "cell_type": "code",
   "execution_count": null,
   "metadata": {},
   "outputs": [],
   "source": []
  },
  {
   "cell_type": "code",
   "execution_count": null,
   "metadata": {},
   "outputs": [],
   "source": []
  },
  {
   "cell_type": "code",
   "execution_count": null,
   "metadata": {},
   "outputs": [],
   "source": []
  },
  {
   "cell_type": "code",
   "execution_count": null,
   "metadata": {},
   "outputs": [],
   "source": []
  }
 ],
 "metadata": {
  "kernelspec": {
   "display_name": "Python 3",
   "language": "python",
   "name": "python3"
  },
  "language_info": {
   "codemirror_mode": {
    "name": "ipython",
    "version": 3
   },
   "file_extension": ".py",
   "mimetype": "text/x-python",
   "name": "python",
   "nbconvert_exporter": "python",
   "pygments_lexer": "ipython3",
   "version": "3.7.3"
  }
 },
 "nbformat": 4,
 "nbformat_minor": 2
}
